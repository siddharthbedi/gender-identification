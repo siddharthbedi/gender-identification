{
 "cells": [
  {
   "cell_type": "code",
   "execution_count": 1,
   "metadata": {},
   "outputs": [],
   "source": [
    "import face_recognition\n",
    "from sklearn import svm\n",
    "import os\n",
    "import pickle\n",
    "from sklearn.model_selection import train_test_split\n",
    "from sklearn.metrics import average_precision_score\n",
    "from sklearn.metrics import accuracy_score"
   ]
  },
  {
   "cell_type": "code",
   "execution_count": 2,
   "metadata": {},
   "outputs": [],
   "source": [
    "# Training the SVC classifier\n",
    "\n",
    "# The training data would be all the face encodings from all the known images and the labels are their names\n",
    "encodings = []\n",
    "names = []"
   ]
  },
  {
   "cell_type": "code",
   "execution_count": 3,
   "metadata": {},
   "outputs": [],
   "source": [
    "# Training directory\n",
    "train_dir = os.listdir('./train/')"
   ]
  },
  {
   "cell_type": "code",
   "execution_count": 4,
   "metadata": {},
   "outputs": [
    {
     "name": "stdout",
     "output_type": "stream",
     "text": [
      "Preparing Dataset\n",
      "preparing dataset completed\n"
     ]
    }
   ],
   "source": [
    "print(\"Preparing Dataset\")\n",
    "\n",
    "# Loop through each person in the training directory\n",
    "for person in train_dir:\n",
    "    pix = os.listdir(\"./train/\" + person)\n",
    "    #print(pix)\n",
    "    \n",
    "    # Loop through each training image for the current person\n",
    "    for person_img in pix:\n",
    "        try:\n",
    "            face = face_recognition.load_image_file(\"./train/\" + person + \"/\" + person_img)\n",
    "            face_enc = face_recognition.face_encodings(face)[0]\n",
    "            \n",
    "            # Add face encoding for current image with corresponding label (name) to the training data\n",
    "            encodings.append(face_enc)\n",
    "            names.append(person)\n",
    "        \n",
    "        except:\n",
    "            pass\n",
    "print(\"dataset prepared\")\n"
   ]
  },
  {
   "cell_type": "code",
   "execution_count": 9,
   "metadata": {},
   "outputs": [
    {
     "name": "stdout",
     "output_type": "stream",
     "text": [
      "train test splitting\n",
      "train_test_split completed \n",
      " \n"
     ]
    }
   ],
   "source": [
    "print(\"train test splitting\")\n",
    "X_train, X_test, y_train, y_test = train_test_split(encodings, names, test_size=0.2, random_state=42)\n",
    "print(\"train_test_split completed \\n \")\n"
   ]
  },
  {
   "cell_type": "code",
   "execution_count": 10,
   "metadata": {},
   "outputs": [
    {
     "name": "stdout",
     "output_type": "stream",
     "text": [
      "Training model started\n",
      "Model training completed \n",
      " saving the model\n"
     ]
    }
   ],
   "source": [
    "# Create and train the SVC classifier\n",
    "print(\"Training model started\")\n",
    "clf = svm.SVC(gamma='scale')\n",
    "clf.fit(X_train,y_train)\n",
    "\n",
    "print(\"Model training completed\")"
   ]
  },
  {
   "cell_type": "code",
   "execution_count": 11,
   "metadata": {
    "scrolled": true
   },
   "outputs": [
    {
     "name": "stdout",
     "output_type": "stream",
     "text": [
      "train accuracy:\n",
      "0.9573370839193625\n",
      " \n",
      " test accuracy:\n",
      "0.9540768509840675\n"
     ]
    }
   ],
   "source": [
    "y_pred = clf.predict(X_test)\n",
    "#precision = average_precision_score(y_test, y_pred)\n",
    "#print(\"average precision score is:\")\n",
    "#print(precision)\n",
    "\n",
    "train_accuracy = accuracy_score(y_train, clf.predict(X_train))\n",
    "print(\"train accuracy:\")\n",
    "print(train_accuracy)\n",
    "\n",
    "test_accuracy = accuracy_score(y_test, y_pred)\n",
    "print(\" \\n test accuracy:\")\n",
    "print(test_accuracy)"
   ]
  },
  {
   "cell_type": "code",
   "execution_count": 12,
   "metadata": {},
   "outputs": [
    {
     "name": "stdout",
     "output_type": "stream",
     "text": [
      "saving model to disk\n"
     ]
    }
   ],
   "source": [
    "# save the model to disk\n",
    "print(\"saving model to disk\")\n",
    "filename = 'finalized_model.sav'\n",
    "pickle.dump(clf, open(filename, 'wb'))"
   ]
  },
  {
   "cell_type": "code",
   "execution_count": 24,
   "metadata": {},
   "outputs": [],
   "source": [
    "from sklearn.linear_model import LogisticRegression\n",
    "clf_LR = LogisticRegression(random_state=0, solver='lbfgs',multi_class='multinomial').fit(X_train, y_train)\n"
   ]
  },
  {
   "cell_type": "code",
   "execution_count": 25,
   "metadata": {},
   "outputs": [
    {
     "name": "stdout",
     "output_type": "stream",
     "text": [
      "train accuracy:\n",
      "0.9549929676511955\n",
      " \n",
      " test accuracy:\n",
      "0.9456419868791003\n"
     ]
    }
   ],
   "source": [
    "y_pred = clf_LR.predict(X_test)\n",
    "#precision = average_precision_score(y_test, y_pred)\n",
    "#print(\"average precision score is:\")\n",
    "#print(precision)\n",
    "\n",
    "train_accuracy = accuracy_score(y_train, clf_LR.predict(X_train))\n",
    "print(\"train accuracy:\")\n",
    "print(train_accuracy)\n",
    "\n",
    "test_accuracy = accuracy_score(y_test, y_pred)\n",
    "print(\" \\n test accuracy:\")\n",
    "print(test_accuracy)"
   ]
  },
  {
   "cell_type": "code",
   "execution_count": null,
   "metadata": {},
   "outputs": [],
   "source": []
  }
 ],
 "metadata": {
  "kernelspec": {
   "display_name": "Python 3",
   "language": "python",
   "name": "python3"
  },
  "language_info": {
   "codemirror_mode": {
    "name": "ipython",
    "version": 3
   },
   "file_extension": ".py",
   "mimetype": "text/x-python",
   "name": "python",
   "nbconvert_exporter": "python",
   "pygments_lexer": "ipython3",
   "version": "3.6.7"
  }
 },
 "nbformat": 4,
 "nbformat_minor": 2
}
